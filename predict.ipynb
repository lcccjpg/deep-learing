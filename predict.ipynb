{
 "cells": [
  {
   "cell_type": "code",
   "execution_count": 5,
   "metadata": {},
   "outputs": [],
   "source": [
    "import torch\n",
    "import cv2\n",
    "import torch.nn.functional as F\n",
    "from Lenet5 import LeNet5  ##重要，虽然显示灰色(即在次代码中没用到)，但若没有引入这个模型代码，加载模型时会找不到模型\n",
    "from torch.autograd import Variable\n",
    "from torchvision import datasets, transforms\n",
    "import numpy as np"
   ]
  },
  {
   "cell_type": "code",
   "execution_count": 7,
   "metadata": {},
   "outputs": [
    {
     "name": "stdout",
     "output_type": "stream",
     "text": [
      "[[2.40811240e-03 6.34900643e-04 1.28869712e-01 7.55122542e-01\n",
      "  1.03783706e-04 1.84149435e-03 5.58684878e-05 9.75424540e-04\n",
      "  1.07077286e-01 2.91090924e-03]]\n",
      "3\n"
     ]
    }
   ],
   "source": [
    "if __name__ == '__main__':\n",
    "    device = torch.device('cuda' if torch.cuda.is_available() else 'cpu')\n",
    "    model = torch.load('model.pth') #加载模型\n",
    "    model = model.to(device)\n",
    "    model.eval()  #把模型转换为测试模式\n",
    "    \n",
    "    img = cv2.imread(\"3.jpg\")  #读取图片\n",
    "    trans = transforms.Compose(\n",
    "        [\n",
    "            transforms.ToTensor(),\n",
    "            transforms.Normalize((0.1307,),(0.3081,))\n",
    "        ])\n",
    "    \n",
    "    img = cv2.cvtColor(img, cv2.COLOR_BGR2GRAY) #图片转为灰度图，因为mnist数据集都是灰度图\n",
    "    img = trans(img)\n",
    "    img = img.to(device)\n",
    "    img = img.unsqueeze(0) #图片扩展多一维,因为输入到保存的模型中是4维的[batch_size,通道,长，宽]，而普通图片只有三维，[通道,长，宽]\n",
    "    #扩展后为[1,1,28,28]\n",
    "    output = model(img)\n",
    "    prob = F.softmax(output, dim=1)\n",
    "    prob = Variable(prob)\n",
    "    prob = prob.cpu().numpy()  #用GPU的数据训练的模型保存的参数都是gpu形式的，要显示则先要转回cpu，再转回numpy模式\n",
    "    print(prob)  #prob是10个分类的概率\n",
    "    pred = np.argmax(prob)\n",
    "    print(pred.item())"
   ]
  },
  {
   "cell_type": "code",
   "execution_count": null,
   "metadata": {},
   "outputs": [],
   "source": []
  }
 ],
 "metadata": {
  "kernelspec": {
   "display_name": "Python 3",
   "language": "python",
   "name": "python3"
  },
  "language_info": {
   "codemirror_mode": {
    "name": "ipython",
    "version": 3
   },
   "file_extension": ".py",
   "mimetype": "text/x-python",
   "name": "python",
   "nbconvert_exporter": "python",
   "pygments_lexer": "ipython3",
   "version": "3.7.9"
  }
 },
 "nbformat": 4,
 "nbformat_minor": 4
}
